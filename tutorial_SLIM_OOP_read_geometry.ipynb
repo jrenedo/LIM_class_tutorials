{
 "cells": [
  {
   "cell_type": "markdown",
   "metadata": {},
   "source": [
    "# Tutorial 2: read a LIM"
   ]
  },
  {
   "cell_type": "markdown",
   "metadata": {},
   "source": [
    "Code developed by Jaime Renedo Anglada (renedo.jaime@gmail.com)"
   ]
  },
  {
   "cell_type": "markdown",
   "metadata": {},
   "source": [
    "This notebook presents an example of the usage of the class developed for the study of single-sided linear induction motors. \n",
    "\n",
    "This notebook should be used to learn how to use the class but not as a \"design tool\". \n",
    "\n",
    "In this tutorial the machine is created from a json file where the variables are written. \n",
    "\n",
    "The class is defined in the file LIM_class_def.py"
   ]
  },
  {
   "cell_type": "markdown",
   "metadata": {},
   "source": [
    "## Libraries needed and constants:"
   ]
  },
  {
   "cell_type": "code",
   "execution_count": 1,
   "metadata": {},
   "outputs": [],
   "source": [
    "import math\n",
    "import cmath\n",
    "import numpy as np\n",
    "\n",
    "import matplotlib.pyplot as plt\n",
    "\n",
    "from LIM_class_def import SLIM_machine # class for the study of the LIMs\n",
    "\n",
    "## Constants: \n",
    "j = complex(0,1)\n",
    "pi = math.pi # define pi\n",
    "\n",
    "## Define the geometry\n",
    "\n",
    "# complex variable for the equations:\n",
    "mu_0 = 4*pi*10.0**-7 # vacuum permeability"
   ]
  },
  {
   "cell_type": "markdown",
   "metadata": {},
   "source": [
    "## SLIM class usage"
   ]
  },
  {
   "cell_type": "markdown",
   "metadata": {},
   "source": [
    "Definition of a new machine with the given parameters: "
   ]
  },
  {
   "cell_type": "code",
   "execution_count": 2,
   "metadata": {},
   "outputs": [],
   "source": [
    "# define the machine using the class:\n",
    "Machine_A = SLIM_machine() # Create the object\n",
    "Machine_A.import_SLIM('input_variables_1.json') # fill with the properties from a json file\n",
    "\n",
    "Machine_A.export_SLIM_basic_properties() # save the properties in a .json file that can be used to create the same machine later\n",
    "\n",
    "# The name of the machine is given by defect with the time and user name, we can change it like this:\n",
    "Machine_A.name = 'tutorial_machine_2' # this will be the name of the folder created with the data files"
   ]
  },
  {
   "cell_type": "markdown",
   "metadata": {},
   "source": [
    "Calculate the permeance function for N_point points along the axis:"
   ]
  },
  {
   "cell_type": "code",
   "execution_count": 3,
   "metadata": {},
   "outputs": [
    {
     "name": "stdout",
     "output_type": "stream",
     "text": [
      "Permeance Calculation\n"
     ]
    }
   ],
   "source": [
    "# Permeance function calculation:\n",
    "print('Permeance Calculation')\n",
    "N_points=50000 # (integer)\n",
    "Machine_A.permeance_calculation(N_points) # calculate the permeance function for N_points\n"
   ]
  },
  {
   "cell_type": "markdown",
   "metadata": {},
   "source": [
    "Calculate the harmonics using the Fast Fourier Transform algorithm (FFT):"
   ]
  },
  {
   "cell_type": "code",
   "execution_count": 4,
   "metadata": {},
   "outputs": [
    {
     "name": "stdout",
     "output_type": "stream",
     "text": [
      "Harmonics Calculation\n"
     ]
    }
   ],
   "source": [
    "# Calculate the harmonic spectrum using FFT:\n",
    "print('Harmonics Calculation')\n",
    "Machine_A.calc_harmonics_FFT() # has to be executed after the permeance calculations\n"
   ]
  },
  {
   "cell_type": "markdown",
   "metadata": {},
   "source": [
    "Plot the magnetic field distribution for a given current (no induced currents): "
   ]
  },
  {
   "cell_type": "code",
   "execution_count": 5,
   "metadata": {},
   "outputs": [],
   "source": [
    "# Plot the magnetic field at a given time:\n",
    "temp_mat = Machine_A.plot_field_static(500.0/1.0)"
   ]
  },
  {
   "cell_type": "markdown",
   "metadata": {},
   "source": [
    "Plot the harmonics:"
   ]
  },
  {
   "cell_type": "code",
   "execution_count": 6,
   "metadata": {},
   "outputs": [],
   "source": [
    "# Plot the harmonics:\n",
    "temp_mat = Machine_A.plot_harmonics(500.0/1.0, 23)"
   ]
  },
  {
   "cell_type": "markdown",
   "metadata": {},
   "source": [
    "Define the material properties: "
   ]
  },
  {
   "cell_type": "code",
   "execution_count": 7,
   "metadata": {},
   "outputs": [
    {
     "name": "stdout",
     "output_type": "stream",
     "text": [
      "Define materials\n"
     ]
    }
   ],
   "source": [
    "# Define the material properties for the thrust calculation:\n",
    "# for an aluminium rail:\n",
    "rho_c = 28.85*10**-9; # aluminium resistivity [Ohm*m]\n",
    "sigma_rail = 1.0/rho_c; # electrical conductivity [1/Ohm*m]\n",
    "\n",
    "# iron yoke properties:\n",
    "mu_yoke = 500\n",
    "# sigma_yoke = 6.7*10.0**6 #[S/m] conductivity (up to 10*10^6 S/m)\n",
    "sigma_yoke = 1.0 # [S/m] conductivity (up to 10*10^6 S/m)\n",
    "\n",
    "# Conductivity of the windings:\n",
    "# rho_cu = 1.68*10.0**-8 # copper resistivity [Ohm*m]\n",
    "rho_cu = 2.0554*10.0**-8 # copper resistivity [Ohm*m] at 70 degrees\n",
    "sigma_coil = 1.0/rho_cu\n",
    "\n",
    "print('Define materials')\n",
    "Machine_A.define_materials(sigma_rail, mu_yoke, sigma_yoke, sigma_coil) # saves the values into internal properties of the class (overwrites default)"
   ]
  },
  {
   "cell_type": "markdown",
   "metadata": {},
   "source": [
    "Thrust calculation: "
   ]
  },
  {
   "cell_type": "code",
   "execution_count": 8,
   "metadata": {},
   "outputs": [
    {
     "name": "stdout",
     "output_type": "stream",
     "text": [
      "Thrust Calculation\n"
     ]
    },
    {
     "ename": "KeyboardInterrupt",
     "evalue": "",
     "output_type": "error",
     "traceback": [
      "\u001b[0;31m---------------------------------------------------------------------------\u001b[0m",
      "\u001b[0;31mKeyboardInterrupt\u001b[0m                         Traceback (most recent call last)",
      "Cell \u001b[0;32mIn[8], line 29\u001b[0m\n\u001b[1;32m     26\u001b[0m \u001b[38;5;66;03m# we could have that it is on by default but if you put 0 then it is off...\u001b[39;00m\n\u001b[1;32m     28\u001b[0m \u001b[38;5;28mprint\u001b[39m(\u001b[38;5;124m'\u001b[39m\u001b[38;5;124mThrust Calculation\u001b[39m\u001b[38;5;124m'\u001b[39m)\n\u001b[0;32m---> 29\u001b[0m Machine_A\u001b[38;5;241m.\u001b[39mcalc_thrust(f_vec_elec, vec_slip, N_coeffs_max, percentage_threshold, var_3D_effects)\n",
      "File \u001b[0;32m~/Documents/work/LIM/LIM_OOP_v_1.1/tutorial_upload/LIM_class_def.py:891\u001b[0m, in \u001b[0;36mSLIM_machine.calc_thrust\u001b[0;34m(self, f_vec_elec, vec_slip, N_coeffs_max, percentage_threshold, var_3D_effects)\u001b[0m\n\u001b[1;32m    886\u001b[0m \u001b[38;5;66;03m#s_n=(1.0-(1.0-slip)*n*tau_p/L_p)*1.0\u001b[39;00m\n\u001b[1;32m    887\u001b[0m \u001b[38;5;66;03m#print(s_n)\u001b[39;00m\n\u001b[1;32m    888\u001b[0m \n\u001b[1;32m    889\u001b[0m \u001b[38;5;66;03m# coefficient to take into account 3D effects:\u001b[39;00m\n\u001b[1;32m    890\u001b[0m \u001b[38;5;28;01mif\u001b[39;00m var_3D_effects\u001b[38;5;241m==\u001b[39m\u001b[38;5;241m1\u001b[39m:\n\u001b[0;32m--> 891\u001b[0m     temp_K_s\u001b[38;5;241m=\u001b[39m\u001b[38;5;28mself\u001b[39m\u001b[38;5;241m.\u001b[39mrussell_coef(\u001b[38;5;28mself\u001b[39m\u001b[38;5;241m.\u001b[39mw_yoke\u001b[38;5;241m/\u001b[39m\u001b[38;5;241m2\u001b[39m, \u001b[38;5;28mself\u001b[39m\u001b[38;5;241m.\u001b[39malpha, \u001b[38;5;28mself\u001b[39m\u001b[38;5;241m.\u001b[39mL_p, n) \u001b[38;5;66;03m# I need to finish this function\u001b[39;00m\n\u001b[1;32m    892\u001b[0m     \u001b[38;5;28;01mif\u001b[39;00m np\u001b[38;5;241m.\u001b[39misnan(temp_K_s):\n\u001b[1;32m    893\u001b[0m         K_s[count] \u001b[38;5;241m=\u001b[39m \u001b[38;5;241m0.0\u001b[39m\n",
      "File \u001b[0;32m~/Documents/work/LIM/LIM_OOP_v_1.1/tutorial_upload/LIM_class_def.py:1791\u001b[0m, in \u001b[0;36mSLIM_machine.russell_coef\u001b[0;34m(self, l, alpha, b, q)\u001b[0m\n\u001b[1;32m   1787\u001b[0m     B[\u001b[38;5;241m9\u001b[39m] \u001b[38;5;241m=\u001b[39m thrust\n\u001b[1;32m   1789\u001b[0m     \u001b[38;5;28;01mreturn\u001b[39;00m B\n\u001b[0;32m-> 1791\u001b[0m \u001b[38;5;28;01mdef\u001b[39;00m \u001b[38;5;21mrussell_coef\u001b[39m(\u001b[38;5;28mself\u001b[39m, l, alpha, b, q):\n\u001b[1;32m   1792\u001b[0m     \u001b[38;5;66;03m# Russell and Norsworthy coefficient\u001b[39;00m\n\u001b[1;32m   1793\u001b[0m     \u001b[38;5;28;01mimport\u001b[39;00m \u001b[38;5;21;01mmath\u001b[39;00m\n\u001b[1;32m   1794\u001b[0m     \u001b[38;5;28;01mimport\u001b[39;00m \u001b[38;5;21;01mnumpy\u001b[39;00m \u001b[38;5;28;01mas\u001b[39;00m \u001b[38;5;21;01mnp\u001b[39;00m\n",
      "\u001b[0;31mKeyboardInterrupt\u001b[0m: "
     ]
    }
   ],
   "source": [
    "# Calculate the thrust-slip characteristics and all other performance parameters:\n",
    "\n",
    "# Electrical frequencies we are interested in:\n",
    "f_vec1 = np.array([5.0, 10.0, 25.0, 50.0, 75.0])\n",
    "f_vec2 = np.array([100.0, 150.0, 200.0, 250.0, 300.0, 350.0, 400.0])\n",
    "\n",
    "f_vec_elec = np.concatenate((f_vec1, f_vec2))\n",
    "\n",
    "# slip vector:\n",
    "N_slip = 15\n",
    "n_scale = 100\n",
    "\n",
    "v_slip_1 = (np.geomspace(1, n_scale+1, num=N_slip)-1)/n_scale # to have more points around slip = 0, and few at high slips\n",
    "v_slip_1[-1] = 0.99\n",
    "v_slip_2 = -1.0*np.flip(v_slip_1[1:])\n",
    "vec_slip = np.concatenate((v_slip_2, v_slip_1))\n",
    "\n",
    "# Maximum number of Fourier coefficients:\n",
    "N_coeffs_max = round(23/(2*Machine_A.tau_p/(2*(Machine_A.P*2*Machine_A.tau_p*10)))) # we could have a default value\n",
    "\n",
    "# Percentage of main harmonic to have a threshold:\n",
    "percentage_threshold = 5 # in percentage, we could have a default value\n",
    "\n",
    "# 3D end effects on or off:\n",
    "var_3D_effects = 1 # turn on (1) or off (0) the 3D effects\n",
    "# we could have that it is on by default but if you put 0 then it is off...\n",
    "\n",
    "print('Thrust Calculation')\n",
    "Machine_A.calc_thrust(f_vec_elec, vec_slip, N_coeffs_max, percentage_threshold, var_3D_effects) # performance of a SLIM, has to be executed after harmonics FFT\n"
   ]
  },
  {
   "cell_type": "markdown",
   "metadata": {},
   "source": [
    "Generate the report and save the data in a .json file. The data is saved in a folder created with the same name as the machine (which by default it has the date and the user name)."
   ]
  },
  {
   "cell_type": "code",
   "execution_count": null,
   "metadata": {},
   "outputs": [],
   "source": [
    "Machine_A.export_full_machine() # generates a json file in the folder called \"full_machine.json\"\n",
    "\n",
    "Machine_A.generate_report() # generates a report for the user in excel called \"SLIM_report.xlsx\"\n"
   ]
  },
  {
   "cell_type": "markdown",
   "metadata": {},
   "source": [
    "Post-processing: "
   ]
  },
  {
   "cell_type": "code",
   "execution_count": null,
   "metadata": {},
   "outputs": [],
   "source": [
    "# To get the results:\n",
    "\n",
    "# Maximum thrust as a function of speed:\n",
    "v_max = Machine_A.v_max\n",
    "thrust_max = Machine_A.thrust_max\n",
    "\n",
    "# active power:\n",
    "P_tot_max = Machine_A.P_tot_max\n",
    "\n",
    "# efficiency:\n",
    "eff_max = Machine_A.eff_max\n",
    "eff_gap_max = Machine_A.eff_gap_max\n",
    "\n",
    "# Power factor:\n",
    "PF_max = Machine_A.PF_max\n",
    "PF_gap_max = Machine_A.PF_gap_max\n",
    "\n",
    "# Also the matrices with the more detailed information:\n",
    "vec_slip = Machine_A.vec_slip # vector of slips\n",
    "v_mat = Machine_A.v_mat # matrix of speeds\n",
    "thrust_mat = Machine_A.thrust_mat # matrix of thrust\n",
    "Fy_mat = Machine_A.Fy_mat # matrix of thrust\n",
    "\n",
    "# Plot the results:\n",
    "\n",
    "# maximum thrust\n",
    "plt.plot(v_max*3.6,thrust_max/1000,'s-')\n",
    "\n",
    "plt.ylabel(\"thrust, F [kN]\")\n",
    "plt.xlabel(\"speed, v [km/hr]\")\n",
    "plt.grid()\n",
    "\n",
    "plt.savefig('max_thrust.png', dpi=300)\n",
    "plt.show()\n",
    "\n",
    "# maximum power:\n",
    "plt.plot(v_max*3.6,np.multiply(thrust_max,v_max/1000),'s-')\n",
    "plt.plot(v_max*3.6,P_tot_max/1000,'o-.')\n",
    "\n",
    "plt.ylabel(\"Power, P [kW]\")\n",
    "plt.xlabel(\"speed, v [km/hr]\")\n",
    "plt.grid()\n",
    "\n",
    "plt.legend(('mechanical power', 'total power'), loc='lower right')\n",
    "\n",
    "plt.savefig('max_power.png', dpi=300)\n",
    "plt.show()\n",
    "\n",
    "# Efficiency:\n",
    "\n",
    "plt.plot(v_max*3.6,eff_max*100,'s-')\n",
    "plt.plot(v_max*3.6,eff_gap_max*100,'o-.')\n",
    "\n",
    "plt.ylabel(\"efficiency, [%]\")\n",
    "plt.xlabel(\"speed, v [km/hr]\")\n",
    "plt.grid()\n",
    "plt.legend(('real efficiency', 'air-gap efficiency'), loc='lower right')\n",
    "\n",
    "plt.savefig('max_efficiency.png', dpi=300)\n",
    "plt.show()\n",
    "\n",
    "# Power factor:\n",
    "\n",
    "plt.plot(v_max*3.6,PF_max,'s-')\n",
    "plt.plot(v_max*3.6,PF_gap_max,'o-.')\n",
    "\n",
    "plt.ylabel(\"power factor, [pu]\")\n",
    "plt.xlabel(\"speed, v [km/hr]\")\n",
    "plt.grid()\n",
    "plt.legend(('total PF', 'air-gap PF'), loc='lower left')\n",
    "\n",
    "plt.savefig('max_PF.png', dpi=300)\n",
    "plt.show()"
   ]
  },
  {
   "cell_type": "code",
   "execution_count": null,
   "metadata": {},
   "outputs": [],
   "source": [
    "\n",
    "# Machine A: \n",
    "thrust_mat_1 = Machine_A.thrust_mat\n",
    "Fy_mat_1 = Machine_A.Fy_mat\n",
    "v_mat_1 = Machine_A.v_mat\n",
    "\n",
    "# Thrust speed characteristic\n",
    "n_elements = len(f_vec_elec)\n",
    "vmax_plot = 1400\n",
    "\n",
    "for k in range(n_elements):\n",
    "    plt.plot(3.6*v_mat_1[k,:], np.transpose(thrust_mat_1[k,:])/1000,'-')\n",
    "\n",
    "plt.xlabel(\"speed km/hr\")\n",
    "plt.ylabel(\"thrust [kN]\")\n",
    "plt.xlim(0, vmax_plot)\n",
    "plt.grid()\n",
    "plt.savefig('comparison_thrust_speed.png', dpi=300)\n",
    "\n",
    "plt.show()\n",
    "\n",
    "max_lift = np.amax(Fy_mat_1[k,:])/1000\n",
    "\n",
    "for k in range(n_elements):\n",
    "    plt.plot(3.6*v_mat_1[k,:], np.transpose(Fy_mat_1[k,:])/1000,'-')\n",
    "\n",
    "plt.xlabel(\"speed [km/hr]\")\n",
    "plt.ylabel(\"lift [kN]\")\n",
    "plt.grid()\n",
    "plt.ylim(-1.2*max_lift, 1.2*max_lift)\n",
    "plt.xlim(0, vmax_plot)\n",
    "plt.savefig('comparison_lift_speed.png', dpi=300)\n",
    "\n",
    "plt.show()\n",
    "\n"
   ]
  },
  {
   "cell_type": "code",
   "execution_count": null,
   "metadata": {},
   "outputs": [],
   "source": []
  }
 ],
 "metadata": {
  "kernelspec": {
   "display_name": "Python 3 (ipykernel)",
   "language": "python",
   "name": "python3"
  },
  "language_info": {
   "codemirror_mode": {
    "name": "ipython",
    "version": 3
   },
   "file_extension": ".py",
   "mimetype": "text/x-python",
   "name": "python",
   "nbconvert_exporter": "python",
   "pygments_lexer": "ipython3",
   "version": "3.12.7"
  }
 },
 "nbformat": 4,
 "nbformat_minor": 4
}
